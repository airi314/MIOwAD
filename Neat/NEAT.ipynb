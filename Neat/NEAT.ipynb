{
 "cells": [
  {
   "cell_type": "markdown",
   "metadata": {},
   "source": [
    "# Algorytm genetyczny - częściowa implementacja NEAT"
   ]
  },
  {
   "cell_type": "markdown",
   "metadata": {},
   "source": [
    "## Aleksandra Wichrowska, 291140"
   ]
  },
  {
   "cell_type": "markdown",
   "metadata": {},
   "source": [
    "\"Potwierzam samodzielność poniższej pracy i niekorzystanie przeze mnie z niedozwolonych źródeł.\" \n",
    "\n",
    "~ Aleksandra Wichrowska"
   ]
  },
  {
   "cell_type": "code",
   "execution_count": 1,
   "metadata": {},
   "outputs": [],
   "source": [
    "import numpy as np"
   ]
  },
  {
   "cell_type": "markdown",
   "metadata": {},
   "source": [
    "### Node gene class"
   ]
  },
  {
   "cell_type": "code",
   "execution_count": 81,
   "metadata": {},
   "outputs": [],
   "source": [
    "class Node:\n",
    "    \n",
    "    def __init__ (self, node_id, node_type):\n",
    "        \"\"\"\n",
    "        node_id [int]: global ID of node\n",
    "        node_type [str]: one of {'input','output','hidden'}\n",
    "        \"\"\"\n",
    "        self.node_id = node_id \n",
    "        self.node_type = node_type"
   ]
  },
  {
   "cell_type": "markdown",
   "metadata": {},
   "source": [
    "### Connection gene class"
   ]
  },
  {
   "cell_type": "code",
   "execution_count": 82,
   "metadata": {},
   "outputs": [],
   "source": [
    "class Connection:\n",
    "    \n",
    "    def __init__(self, node_in, node_out, weight, enabled, innov):\n",
    "        \"\"\"\n",
    "        node_in [Node]: first node in connections\n",
    "        node_out [Node]: second node in connections\n",
    "        weight [float]: connection weight\n",
    "        enabled [boolean]: True if connections is enabled\n",
    "        innov [int]: gloabl ID of connection\n",
    "        \"\"\"\n",
    "        self.node_in = node_in\n",
    "        self.node_out = node_out\n",
    "        self.weight = weight\n",
    "        self.enabled = enabled\n",
    "        self.innov = innov\n",
    "    \n",
    "    def get_connection_nodes_ids(self):\n",
    "        \"\"\"\n",
    "        returns tuple of connection nodes ids\n",
    "        \"\"\"\n",
    "        return (self.node_in.node_id, self.node_out.node_id)"
   ]
  },
  {
   "cell_type": "markdown",
   "metadata": {},
   "source": [
    "### Individual class"
   ]
  },
  {
   "cell_type": "code",
   "execution_count": 83,
   "metadata": {},
   "outputs": [],
   "source": [
    "class Individual:\n",
    "    \n",
    "    def __init__ (self, nodes, connections):\n",
    "        \"\"\"\n",
    "        nodes [list]: list of nodes\n",
    "        connections [list]: list of connections\n",
    "        \"\"\"\n",
    "        self.nodes = nodes\n",
    "        self.connections = connections\n",
    "        \n",
    "    def get_connections_list(self):\n",
    "        \"\"\"\n",
    "        returns list of individual's connections, \n",
    "        each connections is represented as a tuple of nodes ids\n",
    "        \"\"\"\n",
    "        connections_list = []\n",
    "        for connection in self.connections:\n",
    "            connections_list.append(connection.get_connection_nodes_ids())\n",
    "        return connections_list\n",
    "    \n",
    "    def get_enabled_connections(self):\n",
    "        \"\"\"\n",
    "        returns list of individual's enabled connections \n",
    "        \"\"\"\n",
    "        connections_list = []\n",
    "        for connection in self.connections:\n",
    "            if connection.enabled: connections_list.append(connection)\n",
    "        return connections_list"
   ]
  },
  {
   "cell_type": "markdown",
   "metadata": {},
   "source": [
    "### Genetic algorithm (NEAT) class"
   ]
  },
  {
   "cell_type": "code",
   "execution_count": 84,
   "metadata": {},
   "outputs": [],
   "source": [
    "class GeneticAlgorithm:\n",
    "    \n",
    "    def __init__ (self, size, n_in, n_out):\n",
    "        \"\"\"\n",
    "        size [int]: size of population (number of individuals)\n",
    "        n_in [int]: number of input nodes\n",
    "        n_out [int]: number of output nodes\n",
    "        \"\"\"\n",
    "    \n",
    "        self.size = size \n",
    "        self.n_in = n_in\n",
    "        self.n_out = n_out\n",
    "        self.connections = {} # dictionary with tuples of connections nodes ids as keys\n",
    "        self.n_nodes = 0 # counter of nodes\n",
    "        self.population = self.generate_population()\n",
    "        \n",
    "    def generate_population(self):\n",
    "        \"\"\"\n",
    "        return generated population,\n",
    "        \"\"\"\n",
    "        population = []\n",
    "        for i in range(self.size):\n",
    "            population.append(self.generate_simple_individual())\n",
    "        self.n_nodes += (self.n_in+self.n_out)\n",
    "        return population\n",
    "        \n",
    "    def generate_simple_individual(self):\n",
    "        \"\"\"\n",
    "        return generated individual for start population,\n",
    "        individual is fully connected graph with only inputs and outputs nodes \n",
    "        \"\"\"\n",
    "        nodes = []\n",
    "        connections = []\n",
    "        max_id = 0\n",
    "        for i in range(self.n_in):\n",
    "            nodes.append(Node(max_id + 1, 'input'))\n",
    "            max_id += 1\n",
    "        for i in range(self.n_out):\n",
    "            nodes.append(Node(max_id + 1, 'output'))\n",
    "            max_id += 1 \n",
    "        for i in range(self.n_in):\n",
    "            for j in range(self.n_out):\n",
    "                connection_nodes = (nodes[i].node_id, nodes[self.n_in+j].node_id)\n",
    "                if not connection_nodes in self.connections.keys():\n",
    "                    self.connections[connection_nodes] = {'innov': len(self.connections)+1, 'node_between':None}\n",
    "                connection = Connection(nodes[i], nodes[self.n_in+j], np.random.normal(), True, \n",
    "                                       self.connections[connection_nodes]['innov'])\n",
    "                connections.append(connection)\n",
    "            \n",
    "        new_individual = Individual(nodes, connections)\n",
    "        return new_individual\n",
    "        \n",
    "    def evaluate(self):\n",
    "        return np.apply_along_axis(self.eval_function, 1, self.population)\n",
    "    \n",
    "    ##################################\n",
    "    ############ MUTATION ############\n",
    "    ##################################    \n",
    "    \n",
    "    def mutate_population(self):\n",
    "        return\n",
    "    \n",
    "    def add_connection_mutation(self, individual):\n",
    "        \"\"\"\n",
    "        add new connections between existing nodes\n",
    "        \n",
    "        individual [Individual]: individual selected for mutation\n",
    "        \"\"\"\n",
    "        for trial in range(50):\n",
    "            n1, n2 = np.random.choice(individual.nodes,2, False)\n",
    "            if n1.node_type == 'input' and n2.node_type == 'input':\n",
    "                continue\n",
    "            elif n1.node_type == 'output' and n2.node_type == 'output':\n",
    "                continue\n",
    "            elif (n1.node_id,n2.node_id) in individual.get_connections_list():\n",
    "                continue\n",
    "            else:    \n",
    "                if not (n1.node_id, n2.node_id) in self.connections:\n",
    "                    self.connections[(n1.node_id,n2.node_id)] = {'innov': len(self.connections)+1, 'node_between':None}\n",
    "                innov = self.connections[(n1.node_id,n2.node_id)]['innov']\n",
    "                connection = Connection(n1,n2,np.random.normal(), True, innov)\n",
    "                individual.connections.append(connection)\n",
    "                return\n",
    "        print('Failed connection adding')\n",
    "        return\n",
    "    \n",
    "    def add_node_mutation(self, individual):\n",
    "        \"\"\"\n",
    "        add new node on existing connection\n",
    "        \n",
    "        individual [Individual]: individual selected for mutation\n",
    "        \"\"\"\n",
    "        \n",
    "        # choose enabled connection on which will be added new node\n",
    "        connection = np.random.choice(individual.get_enabled_connections(),1)[0]\n",
    "        connection.enabled = False        \n",
    "        \n",
    "        # check if on this connections in other individuals exists node\n",
    "        # if yes - get this node id and connections (to and from it) innov\n",
    "        if self.connections[connection.get_connection_nodes_ids()].node_between != None:\n",
    "            new_node_id = self.connections[connection.get_connection_nodes_ids()][1]\n",
    "            connection1_innov = self.connections[(connection.node_in.node_id, new_node_id)]['innov']\n",
    "            connection2_innov = self.connections[(new_node_id,connection.node_out.node_id)]['innov']\n",
    "            \n",
    "        # if no - create new global node and two new global connections\n",
    "        else:\n",
    "            self.n_nodes += 1\n",
    "            new_node_id = self.n_nodes\n",
    "            self.connections[connection.get_connection_nodes_ids()].node_between = new_node_id\n",
    "            connection1_innov = len(self.connections) + 1\n",
    "            self.connections[(connection.node_in.node_id, new_node_id)] = {'innov': connection1_innov, 'node_between':None}\n",
    "            connection2_innov = len(self.connections) + 1\n",
    "            self.connections[(new_node_id, connection.node_out.node_id)] = {'innov': connection2_innov, 'node_between':None}\n",
    "    \n",
    "        new_node = Node(new_node_id, 'hidden')\n",
    "        individual.nodes.append(new_node)\n",
    "        \n",
    "        new_connection1 = Connection(connection.node_in, new_node, 1, True, connection1_innov)\n",
    "        individual.connections.append(new_connection1)\n",
    "        \n",
    "        new_connection2 = Connection(new_node, connection.node_out, connection.weight, True, connection2_innov)\n",
    "        individual.connections.append(new_connection2)\n",
    "    \n",
    "    def change_weight_mutation(self, individual):\n",
    "        \"\"\"\n",
    "        change one randomly selected connection\n",
    "        \n",
    "        individual [Individual]: individual selected for mutation\n",
    "        \"\"\"        \n",
    "        connection = np.random.choice(individual.get_enabled_connections(),1)[0]\n",
    "        rand = np.random.uniform()\n",
    "        \n",
    "        # with probability 10% set new weight\n",
    "        if rand <= 0.1:\n",
    "            connection.weight = np.random.normal()\n",
    "        \n",
    "        # with probability 90% perturbate weight\n",
    "        else:\n",
    "            connection.weight += 0.1*np.random.normal()\n",
    "\n",
    "    def disable_connection_mutation(self, individual):\n",
    "        \"\"\"\n",
    "        disable one randomly selected connection\n",
    "        \n",
    "        individual [Individual]: individual selected for mutation\n",
    "        \"\"\"        \n",
    "        connection = np.random.choice(individual.get_enabled_connections,1)[0]\n",
    "        connection.enabled = False\n",
    "    \n",
    "    ##################################\n",
    "    ########### CROSS OVER ###########\n",
    "    ##################################\n",
    "    \n",
    "    def cross_over_populaton(self):\n",
    "        return\n",
    "    \n",
    "    def cross_over_individuals(self):\n",
    "        \n",
    "        index1, index2 = np.random.choice(range(len(self.population)), 2, replace=False)\n",
    "        individual1 = self.population[index1]\n",
    "        individual2 = self.population[index2]\n",
    "        \n",
    "        new_individual_nodes = []\n",
    "        new_individual_connections = []\n",
    "        \n",
    "        for connection in self.connections:\n",
    "            if connection in individual1.get_connections_list() and connection in individual2.get_connections_list():\n",
    "                return\n",
    "            elif connection in individual1.get_connections_list():\n",
    "                return\n",
    "            elif connection in individual2.get_connections_list():    \n",
    "                return\n",
    "        return\n",
    "    \n",
    "    ##################################\n",
    "    ############ TRAINING ############\n",
    "    ##################################\n",
    "        \n",
    "    def train_one_epoch(self):\n",
    "        self.cross_over_population()\n",
    "        self.mutate_population()\n",
    "        \n",
    "    def train_population(self, epochs=20):\n",
    "        results = [min(self.evaluate())]\n",
    "        for i in range(epochs):\n",
    "            self.train_one_epoch()\n",
    "            results.append(min(self.evaluate()))\n",
    "        return results "
   ]
  },
  {
   "cell_type": "code",
   "execution_count": 85,
   "metadata": {},
   "outputs": [],
   "source": [
    "ga = GeneticAlgorithm(10,3,2)"
   ]
  },
  {
   "cell_type": "code",
   "execution_count": 86,
   "metadata": {},
   "outputs": [
    {
     "data": {
      "text/plain": [
       "[<__main__.Individual at 0x7f3dbc5f1e50>,\n",
       " <__main__.Individual at 0x7f3dbc5f1f10>,\n",
       " <__main__.Individual at 0x7f3dbc5f1940>,\n",
       " <__main__.Individual at 0x7f3dbc648d60>,\n",
       " <__main__.Individual at 0x7f3dbc6482b0>,\n",
       " <__main__.Individual at 0x7f3dbc361280>,\n",
       " <__main__.Individual at 0x7f3dbc361ac0>,\n",
       " <__main__.Individual at 0x7f3dbc3615e0>,\n",
       " <__main__.Individual at 0x7f3dbc3610d0>,\n",
       " <__main__.Individual at 0x7f3dbc2cea00>]"
      ]
     },
     "execution_count": 86,
     "metadata": {},
     "output_type": "execute_result"
    }
   ],
   "source": [
    "ga.population"
   ]
  },
  {
   "cell_type": "code",
   "execution_count": 94,
   "metadata": {},
   "outputs": [
    {
     "data": {
      "text/plain": [
       "[(1, 4), (1, 5), (2, 4), (2, 5), (3, 4), (3, 5)]"
      ]
     },
     "execution_count": 94,
     "metadata": {},
     "output_type": "execute_result"
    }
   ],
   "source": [
    "ga.population[0].get_connections_list()"
   ]
  },
  {
   "cell_type": "code",
   "execution_count": 88,
   "metadata": {},
   "outputs": [
    {
     "data": {
      "text/plain": [
       "[<__main__.Connection at 0x7f3dbc5f1760>,\n",
       " <__main__.Connection at 0x7f3dbc5f1130>,\n",
       " <__main__.Connection at 0x7f3dbc5f14c0>,\n",
       " <__main__.Connection at 0x7f3dbc5f1d00>,\n",
       " <__main__.Connection at 0x7f3dbc5f17f0>,\n",
       " <__main__.Connection at 0x7f3dbc5f1100>]"
      ]
     },
     "execution_count": 88,
     "metadata": {},
     "output_type": "execute_result"
    }
   ],
   "source": [
    "ga.population[0].get_enabled_connections()"
   ]
  },
  {
   "cell_type": "code",
   "execution_count": null,
   "metadata": {},
   "outputs": [],
   "source": []
  },
  {
   "cell_type": "code",
   "execution_count": null,
   "metadata": {},
   "outputs": [],
   "source": []
  },
  {
   "cell_type": "code",
   "execution_count": null,
   "metadata": {},
   "outputs": [],
   "source": []
  },
  {
   "cell_type": "code",
   "execution_count": 90,
   "metadata": {},
   "outputs": [],
   "source": [
    "import networkx as nx"
   ]
  },
  {
   "cell_type": "code",
   "execution_count": 98,
   "metadata": {},
   "outputs": [],
   "source": [
    "G = nx.Graph()\n",
    "pos = nx.spring_layout(G) \n",
    "G.add_edges_from([(1, 4), (1, 5), (2, 4), (2, 5), (3, 4), (3, 5)])"
   ]
  },
  {
   "cell_type": "code",
   "execution_count": 97,
   "metadata": {},
   "outputs": [
    {
     "data": {
      "image/png": "[encoded data removed]",
      "text/plain": [
       "<Figure size 432x288 with 1 Axes>"
      ]
     },
     "metadata": {},
     "output_type": "display_data"
    }
   ],
   "source": [
    "nx.draw(G)"
   ]
  },
  {
   "cell_type": "code",
   "execution_count": null,
   "metadata": {},
   "outputs": [],
   "source": []
  }
 ],
 "metadata": {
  "kernelspec": {
   "display_name": "Python 3",
   "language": "python",
   "name": "python3"
  },
  "language_info": {
   "codemirror_mode": {
    "name": "ipython",
    "version": 3
   },
   "file_extension": ".py",
   "mimetype": "text/x-python",
   "name": "python",
   "nbconvert_exporter": "python",
   "pygments_lexer": "ipython3",
   "version": "3.8.2"
  }
 },
 "nbformat": 4,
 "nbformat_minor": 2
}
