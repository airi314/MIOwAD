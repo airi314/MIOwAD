{
 "cells": [
  {
   "cell_type": "markdown",
   "metadata": {},
   "source": [
    "## IMPLEMENTACJA"
   ]
  },
  {
   "cell_type": "code",
   "execution_count": 249,
   "metadata": {},
   "outputs": [],
   "source": [
    "# load libraries\n",
    "import numpy as np\n",
    "import pandas as pd\n",
    "import matplotlib.pyplot as plt\n",
    "%matplotlib inline"
   ]
  },
  {
   "cell_type": "code",
   "execution_count": 250,
   "metadata": {},
   "outputs": [],
   "source": [
    "# activation functions\n",
    "def sigmoid(x, der=False):\n",
    "    if der:\n",
    "        y = sigmoid(x)\n",
    "        return y * (1 - y)\n",
    "    else:\n",
    "        return np.exp(x) / (1 + np.exp(x))\n",
    "\n",
    "def linear_function (X, W):\n",
    "    X = np.c_[np.ones(X.shape[0]), X]\n",
    "    return X @ W"
   ]
  },
  {
   "cell_type": "code",
   "execution_count": 330,
   "metadata": {},
   "outputs": [],
   "source": [
    "# create NeuralNetwork class\n",
    "class NeuralNetwork:\n",
    "    \n",
    "\n",
    "    # intialize variables in class\n",
    "    def __init__(self, neurons, activ_function, init = \"uniform\"):\n",
    "        \n",
    "        self.neurons  = neurons # list - how many neurons on each layer\n",
    "        \n",
    "        if init == 'uniform':\n",
    "            self.weights = [np.random.uniform(0,1, (neurons[i-1]+1, neurons[i])) for i in range(1, len(neurons))]\n",
    "        \n",
    "        elif init == \"Xavier\":\n",
    "            self.weights = [np.random.randn(neurons[i-1]+1, neurons[i])*np.sqrt(1/(neurons[i-1]+1)) for i in range(1, len(neurons))]\n",
    "  \n",
    "        elif init == \"He\":\n",
    "           self.weights = [np.random.randn(neurons[i-1]+1, neurons[i])*np.sqrt(2/(neurons[i-1]+1+neurons[i])) for i in range(1, len(neurons))]\n",
    "             \n",
    "        self.activ_function = activ_function\n",
    "        self.gradW = [np.zeros_like(e) for e in self.weights]\n",
    "\n",
    "    def forward(self, X):\n",
    "        for i in range (len(self.weights)-1):\n",
    "            X = linear_function(X, self.weights[i])\n",
    "            X = self.activ_function(X)\n",
    "        X = linear_function(X, self.weights[i+1])\n",
    "        return X    \n",
    "        \n",
    "    def backpropagate(self, X, y):\n",
    "        \n",
    "        self.gradW = [np.zeros_like(e) for e in self.weights]\n",
    "        layers = []\n",
    "        layers.append(X)\n",
    "        for i in range(len(self.weights)):\n",
    "            layers.append(linear_function(X, self.weights[i]))\n",
    "            if i == len(self.weights)-1: break\n",
    "            X = self.activ_function(layers[i+1])\n",
    "            \n",
    "        d = layers[len(self.weights)] - y\n",
    "        \n",
    "        for i in reversed(range(len(self.weights))):\n",
    "            self.gradW[i] = np.c_[np.ones(layers[i].shape[0]), self.activ_function(layers[i])].T @ d\n",
    "            if i != 0:\n",
    "                d = d @ self.weights[i][1:, :].T * self.activ_function(layers[i], der=True)\n",
    "        return"
   ]
  },
  {
   "cell_type": "code",
   "execution_count": 255,
   "metadata": {},
   "outputs": [],
   "source": [
    "def readcsv(path):\n",
    "    return np.genfromtxt(path, delimiter=',')[1:, 1:]\n",
    "\n",
    "def scale(X):\n",
    "    return (X - np.mean(X,0))/np.std(X,0)\n",
    "\n",
    "def MSE(model, X, y):\n",
    "    return np.mean((model.forward(X) - y)**2)"
   ]
  },
  {
   "cell_type": "code",
   "execution_count": 343,
   "metadata": {},
   "outputs": [],
   "source": [
    "def train(model, X, y, n_iter = 10000, alpha= 0.001, method='gradient_descent', beta=0.9):\n",
    "        \n",
    "    mse = []\n",
    "    \n",
    "    if method=='gradient_descent':\n",
    "        for i in range(n_iter):\n",
    "                \n",
    "            model.backpropagate(X,y)\n",
    "            for i in range(len(model.weights)):\n",
    "                model.weights[i] -= alpha*model.gradW[i]\n",
    "            mse.append(MSE(model,X,y))\n",
    "                \n",
    "            \n",
    "    elif method=='momentum':\n",
    "        momentum = [np.zeros_like(e) for e in model.weights]\n",
    "        for i in range(n_iter):                \n",
    "            model.backpropagate(X,y)\n",
    "            for j in range(len(model.weights)):\n",
    "                momentum[j] = beta*momentum[j] + model.gradW[j]\n",
    "                model.weights[j] -= alpha * momentum[j]\n",
    "            mse.append(MSE(model,X,y))\n",
    "        \n",
    "    elif method=='rms':\n",
    "        grad_squared = [np.zeros_like(e) for e in model.weights]\n",
    "        for i in range(n_iter):\n",
    "            model.backpropagate(X,y)\n",
    "            grad_squared = np.multiply(beta, grad_squared) + (1 - beta) * np.square(model.gradW)\n",
    "            for j in range(len(model.weights)):\n",
    "                model.weights[j] -= alpha * model.gradW[j]/np.sqrt(grad_squared[j])\n",
    "            mse.append(MSE(model,X,y))\n",
    "        \n",
    "    return mse"
   ]
  },
  {
   "cell_type": "markdown",
   "metadata": {},
   "source": [
    "## TESTY NA ZBIORACH"
   ]
  },
  {
   "cell_type": "code",
   "execution_count": 332,
   "metadata": {
    "scrolled": true
   },
   "outputs": [
    {
     "data": {
      "text/plain": [
       "array([[-1.40997741,  0.48196089],\n",
       "       [ 0.26974234, -0.84252002],\n",
       "       [-1.39948318,  0.45588174],\n",
       "       ...,\n",
       "       [ 0.01961383, -1.00873208],\n",
       "       [ 0.3391374 , -0.7738698 ],\n",
       "       [-1.29863176,  0.21666986]])"
      ]
     },
     "execution_count": 332,
     "metadata": {},
     "output_type": "execute_result"
    }
   ],
   "source": [
    "data1 = readcsv(\"square-large-training.csv\")\n",
    "data1 = scale(data1)\n",
    "data1"
   ]
  },
  {
   "cell_type": "code",
   "execution_count": 333,
   "metadata": {},
   "outputs": [
    {
     "data": {
      "text/plain": [
       "<matplotlib.collections.PathCollection at 0x7f17b09ed7f0>"
      ]
     },
     "execution_count": 333,
     "metadata": {},
     "output_type": "execute_result"
    },
    {
     "data": {
      "image/png": "[encoded data removed]",
      "text/plain": [
       "<Figure size 432x288 with 1 Axes>"
      ]
     },
     "metadata": {
      "needs_background": "light"
     },
     "output_type": "display_data"
    }
   ],
   "source": [
    "plt.scatter(data1[:,0], data1[:,1])"
   ]
  },
  {
   "cell_type": "code",
   "execution_count": 334,
   "metadata": {},
   "outputs": [],
   "source": [
    "X = data1[:, 0:1] # inputs\n",
    "y = data1[:, 1:2] # outputs"
   ]
  },
  {
   "cell_type": "code",
   "execution_count": 381,
   "metadata": {},
   "outputs": [],
   "source": [
    "compare = []"
   ]
  },
  {
   "cell_type": "markdown",
   "metadata": {},
   "source": [
    "### Stochastic gradient descent"
   ]
  },
  {
   "cell_type": "code",
   "execution_count": 382,
   "metadata": {},
   "outputs": [
    {
     "name": "stdout",
     "output_type": "stream",
     "text": [
      "0.03731550925427142\n"
     ]
    }
   ],
   "source": [
    "NN = NeuralNetwork([1, 10, 1], sigmoid, init='Xavier')\n",
    "mse = train(NN,X,y)\n",
    "compare.append(mse)\n",
    "print(mse[-1])"
   ]
  },
  {
   "cell_type": "code",
   "execution_count": 383,
   "metadata": {
    "scrolled": true
   },
   "outputs": [
    {
     "data": {
      "text/plain": [
       "<matplotlib.collections.PathCollection at 0x7f17997c6400>"
      ]
     },
     "execution_count": 383,
     "metadata": {},
     "output_type": "execute_result"
    },
    {
     "data": {
      "image/png": "[encoded data removed]",
      "text/plain": [
       "<Figure size 432x288 with 1 Axes>"
      ]
     },
     "metadata": {
      "needs_background": "light"
     },
     "output_type": "display_data"
    }
   ],
   "source": [
    "plt.figure()\n",
    "plt.scatter(data1[:,0], data1[:,1])\n",
    "plt.scatter(data1[:,0], NN.forward(data1[:,0]), c=\"red\")"
   ]
  },
  {
   "cell_type": "markdown",
   "metadata": {},
   "source": [
    "### Momentum gradient descent"
   ]
  },
  {
   "cell_type": "code",
   "execution_count": 384,
   "metadata": {},
   "outputs": [
    {
     "name": "stdout",
     "output_type": "stream",
     "text": [
      "0.0001015864127605896\n"
     ]
    }
   ],
   "source": [
    "NN = NeuralNetwork([1, 10, 1], sigmoid, init='Xavier')\n",
    "mse = train(NN,X,y, method='momentum')\n",
    "compare.append(mse)\n",
    "print(mse[-1])"
   ]
  },
  {
   "cell_type": "code",
   "execution_count": 385,
   "metadata": {},
   "outputs": [
    {
     "data": {
      "text/plain": [
       "<matplotlib.collections.PathCollection at 0x7f1799770400>"
      ]
     },
     "execution_count": 385,
     "metadata": {},
     "output_type": "execute_result"
    },
    {
     "data": {
      "image/png": "[encoded data removed]",
      "text/plain": [
       "<Figure size 432x288 with 1 Axes>"
      ]
     },
     "metadata": {
      "needs_background": "light"
     },
     "output_type": "display_data"
    }
   ],
   "source": [
    "plt.figure()\n",
    "plt.scatter(data1[:,0], data1[:,1])\n",
    "plt.scatter(data1[:,0], NN.forward(data1[:,0]), c=\"red\")"
   ]
  },
  {
   "cell_type": "markdown",
   "metadata": {},
   "source": [
    "### RMSprop"
   ]
  },
  {
   "cell_type": "code",
   "execution_count": 386,
   "metadata": {},
   "outputs": [
    {
     "name": "stdout",
     "output_type": "stream",
     "text": [
      "7.333286535574254e-05\n"
     ]
    }
   ],
   "source": [
    "NN = NeuralNetwork([1, 10, 1], sigmoid, init='Xavier')\n",
    "mse = train(NN,X,y,method='rms')\n",
    "compare.append(mse)\n",
    "print(mse[-1])"
   ]
  },
  {
   "cell_type": "code",
   "execution_count": 387,
   "metadata": {},
   "outputs": [
    {
     "data": {
      "text/plain": [
       "<matplotlib.collections.PathCollection at 0x7f1799695b20>"
      ]
     },
     "execution_count": 387,
     "metadata": {},
     "output_type": "execute_result"
    },
    {
     "data": {
      "image/png": "[encoded data removed]",
      "text/plain": [
       "<Figure size 432x288 with 1 Axes>"
      ]
     },
     "metadata": {
      "needs_background": "light"
     },
     "output_type": "display_data"
    }
   ],
   "source": [
    "plt.figure()\n",
    "plt.scatter(data1[:,0], data1[:,1])\n",
    "plt.scatter(data1[:,0], NN.forward(data1[:,0]), c=\"red\")"
   ]
  },
  {
   "cell_type": "markdown",
   "metadata": {},
   "source": [
    "### Comparison"
   ]
  },
  {
   "cell_type": "code",
   "execution_count": 391,
   "metadata": {},
   "outputs": [
    {
     "data": {
      "text/plain": [
       "array([[3.86512336e+00, 5.41286015e+00, 1.03239982e+00],\n",
       "       [2.72045908e+01, 1.40723439e+01, 1.02899641e+00],\n",
       "       [1.24630098e+02, 1.67775072e+01, 1.02615799e+00],\n",
       "       ...,\n",
       "       [3.73165301e-02, 1.01607589e-04, 7.33547846e-05],\n",
       "       [3.78943481e-02, 1.01597000e-04, 7.23596904e-05],\n",
       "       [3.73155093e-02, 1.01586413e-04, 7.33328654e-05]])"
      ]
     },
     "execution_count": 391,
     "metadata": {},
     "output_type": "execute_result"
    }
   ],
   "source": [
    "np.array(compare).T"
   ]
  },
  {
   "cell_type": "code",
   "execution_count": 409,
   "metadata": {},
   "outputs": [
    {
     "data": {
      "text/plain": [
       "[<matplotlib.lines.Line2D at 0x7f17990dcfa0>,\n",
       " <matplotlib.lines.Line2D at 0x7f17990e9100>,\n",
       " <matplotlib.lines.Line2D at 0x7f17990e91c0>]"
      ]
     },
     "execution_count": 409,
     "metadata": {},
     "output_type": "execute_result"
    },
    {
     "data": {
      "image/png": "[encoded data removed]",
      "text/plain": [
       "<Figure size 432x288 with 1 Axes>"
      ]
     },
     "metadata": {
      "needs_background": "light"
     },
     "output_type": "display_data"
    }
   ],
   "source": [
    "plt.plot(np.array(compare).T[1000:,:])"
   ]
  },
  {
   "cell_type": "markdown",
   "metadata": {},
   "source": [
    "### KOMENATRZ\n",
    "\n",
    "Najszybciej zbiega metoda momentum (dla sieci o jednej warstwie ukrytej z 10 neuronami) - przy 10.000 iteracji osiąga najmniejsze MSE. Metoda rms - podobne wyniki\n"
   ]
  },
  {
   "cell_type": "code",
   "execution_count": null,
   "metadata": {},
   "outputs": [],
   "source": []
  }
 ],
 "metadata": {
  "kernelspec": {
   "display_name": "Python 3",
   "language": "python",
   "name": "python3"
  },
  "language_info": {
   "codemirror_mode": {
    "name": "ipython",
    "version": 3
   },
   "file_extension": ".py",
   "mimetype": "text/x-python",
   "name": "python",
   "nbconvert_exporter": "python",
   "pygments_lexer": "ipython3",
   "version": "3.8.1"
  }
 },
 "nbformat": 4,
 "nbformat_minor": 2
}
